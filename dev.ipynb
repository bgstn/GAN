{
 "cells": [
  {
   "cell_type": "code",
   "execution_count": 96,
   "metadata": {},
   "outputs": [],
   "source": [
    "# Import Libraries\n",
    "from keras.models import Sequential, clone_model, Model\n",
    "from keras.layers import Dense, Dropout, InputLayer\n",
    "from keras.datasets import mnist\n",
    "from keras.utils import np_utils\n",
    "from keras import backend as K\n",
    "import matplotlib.pyplot as plt\n",
    "import numpy as np"
   ]
  },
  {
   "cell_type": "code",
   "execution_count": 16,
   "metadata": {},
   "outputs": [
    {
     "name": "stdout",
     "output_type": "stream",
     "text": [
      "(60000, 784)\n",
      "(10000, 784)\n",
      "(60000, 10)\n",
      "(10000, 10)\n"
     ]
    }
   ],
   "source": [
    "(X_train, y_train), (X_test, y_test) = mnist.load_data()\n",
    "X_train = X_train.reshape(X_train.shape[0], -1)/255\n",
    "X_test = X_test.reshape(X_test.shape[0], -1)/255\n",
    "y_train = np_utils.to_categorical(y_train)\n",
    "y_test = np_utils.to_categorical(y_test)\n",
    "print(X_train.shape)\n",
    "print(X_test.shape)\n",
    "print(y_train.shape)\n",
    "print(y_test.shape)"
   ]
  },
  {
   "cell_type": "code",
   "execution_count": 61,
   "metadata": {},
   "outputs": [],
   "source": [
    "def baseline_model(num_pixels, num_classes):\n",
    "    model = Sequential()\n",
    "    model.add(InputLayer(input_shape=(num_pixels,)))\n",
    "    model.add(Dense(num_pixels,kernel_initializer='normal',activation='relu'))\n",
    "    model.add(Dense(num_classes,kernel_initializer='normal',activation='softmax'))\n",
    "    model.compile(loss='categorical_crossentropy',optimizer='adam',metrics=['accuracy'])\n",
    "    return model"
   ]
  },
  {
   "cell_type": "code",
   "execution_count": 64,
   "metadata": {
    "scrolled": false
   },
   "outputs": [
    {
     "name": "stdout",
     "output_type": "stream",
     "text": [
      "Train on 54000 samples, validate on 6000 samples\n",
      "Epoch 1/15\n",
      "54000/54000 [==============================] - 2s 45us/step - loss: 0.2992 - acc: 0.9154 - val_loss: 0.1263 - val_acc: 0.9667\n",
      "Epoch 2/15\n",
      "54000/54000 [==============================] - 2s 34us/step - loss: 0.1170 - acc: 0.9665 - val_loss: 0.0903 - val_acc: 0.9750\n",
      "Epoch 3/15\n",
      "54000/54000 [==============================] - 2s 34us/step - loss: 0.0756 - acc: 0.9782 - val_loss: 0.0818 - val_acc: 0.9757\n",
      "Epoch 4/15\n",
      "54000/54000 [==============================] - 2s 35us/step - loss: 0.0524 - acc: 0.9851 - val_loss: 0.0738 - val_acc: 0.9780\n",
      "Epoch 5/15\n",
      "54000/54000 [==============================] - 2s 35us/step - loss: 0.0388 - acc: 0.9889 - val_loss: 0.0683 - val_acc: 0.9815\n",
      "Epoch 6/15\n",
      "54000/54000 [==============================] - 2s 34us/step - loss: 0.0280 - acc: 0.9926 - val_loss: 0.0654 - val_acc: 0.9833\n",
      "Epoch 7/15\n",
      "54000/54000 [==============================] - 2s 34us/step - loss: 0.0205 - acc: 0.9948 - val_loss: 0.0638 - val_acc: 0.9817\n",
      "Epoch 8/15\n",
      "54000/54000 [==============================] - 2s 34us/step - loss: 0.0156 - acc: 0.9963 - val_loss: 0.0609 - val_acc: 0.9827\n",
      "Epoch 9/15\n",
      "54000/54000 [==============================] - 2s 35us/step - loss: 0.0117 - acc: 0.9976 - val_loss: 0.0685 - val_acc: 0.9805\n",
      "Epoch 10/15\n",
      "54000/54000 [==============================] - 2s 35us/step - loss: 0.0079 - acc: 0.9986 - val_loss: 0.0662 - val_acc: 0.9837\n",
      "Epoch 11/15\n",
      "54000/54000 [==============================] - 2s 35us/step - loss: 0.0052 - acc: 0.9995 - val_loss: 0.0598 - val_acc: 0.9848\n",
      "Epoch 12/15\n",
      "54000/54000 [==============================] - 2s 35us/step - loss: 0.0045 - acc: 0.9995 - val_loss: 0.0609 - val_acc: 0.9842\n",
      "Epoch 13/15\n",
      "54000/54000 [==============================] - 2s 35us/step - loss: 0.0041 - acc: 0.9995 - val_loss: 0.0654 - val_acc: 0.9843\n",
      "Epoch 14/15\n",
      "54000/54000 [==============================] - 2s 34us/step - loss: 0.0031 - acc: 0.9997 - val_loss: 0.0706 - val_acc: 0.9822\n",
      "Epoch 15/15\n",
      "54000/54000 [==============================] - 2s 35us/step - loss: 0.0043 - acc: 0.9992 - val_loss: 0.0749 - val_acc: 0.9817\n"
     ]
    },
    {
     "data": {
      "text/plain": [
       "<keras.callbacks.History at 0x1db765bbdd8>"
      ]
     },
     "execution_count": 64,
     "metadata": {},
     "output_type": "execute_result"
    }
   ],
   "source": [
    "num_pixels = X_train.shape[1]\n",
    "num_classes = y_train.shape[1]\n",
    "\n",
    "model = baseline_model(num_pixels=num_pixels, num_classes=num_classes)\n",
    "model.fit(x=X_train, y=y_train, validation_split=0.1, epochs=15, batch_size=200, verbose=1)"
   ]
  },
  {
   "cell_type": "code",
   "execution_count": 94,
   "metadata": {},
   "outputs": [
    {
     "name": "stdout",
     "output_type": "stream",
     "text": [
      "_________________________________________________________________\n",
      "Layer (type)                 Output Shape              Param #   \n",
      "=================================================================\n",
      "dense_27 (Dense)             (None, 784)               615440    \n",
      "_________________________________________________________________\n",
      "dense_28 (Dense)             (None, 10)                7850      \n",
      "=================================================================\n",
      "Total params: 623,290\n",
      "Trainable params: 623,290\n",
      "Non-trainable params: 0\n",
      "_________________________________________________________________\n"
     ]
    }
   ],
   "source": [
    "model.summary()"
   ]
  },
  {
   "cell_type": "code",
   "execution_count": 120,
   "metadata": {},
   "outputs": [],
   "source": [
    "def generator_model(input_dimension, hidden_size, discriminator):\n",
    "    model_g = Sequential()\n",
    "    model_g.add(InputLayer(input_shape=input_dimension))\n",
    "    for hid in hidden_size:\n",
    "        model_g.add(Dense(units=hid,kernel_initializer='normal',activation='relu'))\n",
    "    model_d = clone_model(model=discriminator)\n",
    "    for layer in model_d.layers:\n",
    "        layer.trainable = False\n",
    "    model = Sequential()\n",
    "    model.add(model_g)\n",
    "    model.add(model_d)\n",
    "    model.compile(loss='categorical_crossentropy',optimizer='adam',metrics=['accuracy'])\n",
    "    return model"
   ]
  },
  {
   "cell_type": "code",
   "execution_count": 121,
   "metadata": {},
   "outputs": [],
   "source": [
    "model_G = generator_model((10,), [32, 32], model)"
   ]
  },
  {
   "cell_type": "code",
   "execution_count": 126,
   "metadata": {},
   "outputs": [
    {
     "name": "stdout",
     "output_type": "stream",
     "text": [
      "Epoch 1/1\n",
      "10000/10000 [==============================] - 2s 223us/step - loss: 2.3026 - acc: 0.1031\n"
     ]
    },
    {
     "data": {
      "text/plain": [
       "<keras.callbacks.History at 0x1db75717898>"
      ]
     },
     "execution_count": 126,
     "metadata": {},
     "output_type": "execute_result"
    }
   ],
   "source": [
    "temp_x = np.random.uniform(high=1,low=0, size=(10000, 10))\n",
    "y = np.random.choice(range(10), size=10000)\n",
    "y = np_utils.to_categorical(y)\n",
    "model_G.fit(x=temp_x, y=y)"
   ]
  },
  {
   "cell_type": "code",
   "execution_count": 127,
   "metadata": {},
   "outputs": [
    {
     "name": "stdout",
     "output_type": "stream",
     "text": [
      "_________________________________________________________________\n",
      "Layer (type)                 Output Shape              Param #   \n",
      "=================================================================\n",
      "sequential_39 (Sequential)   (None, 32)                1408      \n",
      "_________________________________________________________________\n",
      "sequential_15 (Sequential)   (None, 10)                33722     \n",
      "=================================================================\n",
      "Total params: 35,130\n",
      "Trainable params: 1,408\n",
      "Non-trainable params: 33,722\n",
      "_________________________________________________________________\n"
     ]
    }
   ],
   "source": [
    "model_G.summary()"
   ]
  },
  {
   "cell_type": "code",
   "execution_count": null,
   "metadata": {
    "collapsed": true
   },
   "outputs": [],
   "source": []
  }
 ],
 "metadata": {
  "kernelspec": {
   "display_name": "Python 3",
   "language": "python",
   "name": "python3"
  },
  "language_info": {
   "codemirror_mode": {
    "name": "ipython",
    "version": 3
   },
   "file_extension": ".py",
   "mimetype": "text/x-python",
   "name": "python",
   "nbconvert_exporter": "python",
   "pygments_lexer": "ipython3",
   "version": "3.6.8"
  }
 },
 "nbformat": 4,
 "nbformat_minor": 2
}
