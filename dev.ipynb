{
 "cells": [
  {
   "cell_type": "code",
   "execution_count": 13,
   "metadata": {},
   "outputs": [],
   "source": [
    "# Import Libraries\n",
    "from keras.models import Sequential, clone_model, Model\n",
    "from keras.layers import Dense, Dropout, Input\n",
    "from keras.layers.merge import concatenate\n",
    "from keras.datasets import mnist\n",
    "from keras.utils import np_utils\n",
    "from keras import backend as K\n",
    "import matplotlib.pyplot as plt\n",
    "import numpy as np"
   ]
  },
  {
   "cell_type": "code",
   "execution_count": 14,
   "metadata": {},
   "outputs": [
    {
     "name": "stdout",
     "output_type": "stream",
     "text": [
      "(60000, 784)\n",
      "(10000, 784)\n",
      "(60000, 10)\n",
      "(10000, 10)\n"
     ]
    }
   ],
   "source": [
    "(X_train, y_train), (X_test, y_test) = mnist.load_data()\n",
    "X_train = X_train.reshape(X_train.shape[0], -1)/255\n",
    "X_test = X_test.reshape(X_test.shape[0], -1)/255\n",
    "y_train = np_utils.to_categorical(y_train)\n",
    "y_test = np_utils.to_categorical(y_test)\n",
    "print(X_train.shape)\n",
    "print(X_test.shape)\n",
    "print(y_train.shape)\n",
    "print(y_test.shape)"
   ]
  },
  {
   "cell_type": "code",
   "execution_count": 34,
   "metadata": {
    "collapsed": true
   },
   "outputs": [],
   "source": [
    "def baseline_model(num_pixels, num_classes):\n",
    "    inpt1 = Input(shape=(num_pixels,))\n",
    "    dense1 = Dense(num_pixels,kernel_initializer='normal',activation='relu')(inpt1)\n",
    "    \n",
    "    inpt2 = Input(shape=(num_pixels,))\n",
    "    dense2 = Dense(num_pixels,kernel_initializer='normal',activation='relu')(inpt2)\n",
    "    \n",
    "    concat_layer = concatenate([dense1, dense2], axis=-1)\n",
    "    logits = Dense(num_classes, kernel_initializer='normal',activation='softmax')(concat_layer)\n",
    "    model = Model([inpt1, inpt2], logits)\n",
    "    model.compile(loss='categorical_crossentropy',optimizer='adam',metrics=['accuracy'])\n",
    "    return model"
   ]
  },
  {
   "cell_type": "code",
   "execution_count": 36,
   "metadata": {
    "scrolled": false
   },
   "outputs": [
    {
     "name": "stdout",
     "output_type": "stream",
     "text": [
      "Train on 54000 samples, validate on 6000 samples\n",
      "Epoch 1/15\n",
      "54000/54000 [==============================] - 4s 73us/step - loss: 0.2503 - acc: 0.9273 - val_loss: 0.1044 - val_acc: 0.9708\n",
      "Epoch 2/15\n",
      "54000/54000 [==============================] - 3s 50us/step - loss: 0.0938 - acc: 0.9730 - val_loss: 0.0822 - val_acc: 0.9768\n",
      "Epoch 3/15\n",
      "54000/54000 [==============================] - 3s 50us/step - loss: 0.0574 - acc: 0.9831 - val_loss: 0.0695 - val_acc: 0.9802\n",
      "Epoch 4/15\n",
      "54000/54000 [==============================] - 3s 49us/step - loss: 0.0376 - acc: 0.9895 - val_loss: 0.0630 - val_acc: 0.9808\n",
      "Epoch 5/15\n",
      "54000/54000 [==============================] - 3s 49us/step - loss: 0.0265 - acc: 0.9930 - val_loss: 0.0604 - val_acc: 0.9823\n",
      "Epoch 6/15\n",
      "54000/54000 [==============================] - 3s 50us/step - loss: 0.0180 - acc: 0.9954 - val_loss: 0.0663 - val_acc: 0.9798\n",
      "Epoch 7/15\n",
      "54000/54000 [==============================] - 3s 50us/step - loss: 0.0127 - acc: 0.9969 - val_loss: 0.0567 - val_acc: 0.9840\n",
      "Epoch 8/15\n",
      "54000/54000 [==============================] - 3s 51us/step - loss: 0.0074 - acc: 0.9987 - val_loss: 0.0668 - val_acc: 0.9818\n",
      "Epoch 9/15\n",
      "54000/54000 [==============================] - 3s 51us/step - loss: 0.0070 - acc: 0.9985 - val_loss: 0.0604 - val_acc: 0.9850\n",
      "Epoch 10/15\n",
      "54000/54000 [==============================] - 3s 50us/step - loss: 0.0036 - acc: 0.9997 - val_loss: 0.0605 - val_acc: 0.9850\n",
      "Epoch 11/15\n",
      "54000/54000 [==============================] - 3s 50us/step - loss: 0.0024 - acc: 0.9998 - val_loss: 0.0597 - val_acc: 0.9857\n",
      "Epoch 12/15\n",
      "54000/54000 [==============================] - 3s 51us/step - loss: 0.0014 - acc: 1.0000 - val_loss: 0.0623 - val_acc: 0.9843\n",
      "Epoch 13/15\n",
      "54000/54000 [==============================] - 3s 50us/step - loss: 0.0013 - acc: 1.0000 - val_loss: 0.0575 - val_acc: 0.9857\n",
      "Epoch 14/15\n",
      "54000/54000 [==============================] - 3s 50us/step - loss: 7.5323e-04 - acc: 1.0000 - val_loss: 0.0597 - val_acc: 0.9858\n",
      "Epoch 15/15\n",
      "54000/54000 [==============================] - 3s 50us/step - loss: 6.0918e-04 - acc: 1.0000 - val_loss: 0.0614 - val_acc: 0.9857\n"
     ]
    },
    {
     "data": {
      "text/plain": [
       "<keras.callbacks.History at 0x1dbd29b4588>"
      ]
     },
     "execution_count": 36,
     "metadata": {},
     "output_type": "execute_result"
    }
   ],
   "source": [
    "num_pixels = X_train.shape[1]\n",
    "num_classes = y_train.shape[1]\n",
    "\n",
    "model = baseline_model(num_pixels=num_pixels, num_classes=num_classes)\n",
    "model.fit(x=[X_train, X_train], y=y_train, validation_split=0.1, epochs=15, batch_size=200, verbose=1)"
   ]
  },
  {
   "cell_type": "code",
   "execution_count": 5,
   "metadata": {},
   "outputs": [
    {
     "name": "stdout",
     "output_type": "stream",
     "text": [
      "_________________________________________________________________\n",
      "Layer (type)                 Output Shape              Param #   \n",
      "=================================================================\n",
      "dense_1 (Dense)              (None, 784)               615440    \n",
      "_________________________________________________________________\n",
      "dense_2 (Dense)              (None, 10)                7850      \n",
      "=================================================================\n",
      "Total params: 623,290\n",
      "Trainable params: 623,290\n",
      "Non-trainable params: 0\n",
      "_________________________________________________________________\n"
     ]
    }
   ],
   "source": [
    "model.summary()"
   ]
  },
  {
   "cell_type": "code",
   "execution_count": 67,
   "metadata": {
    "collapsed": true
   },
   "outputs": [],
   "source": [
    "def generator_model(input_dimension, hidden_size, discriminator):\n",
    "    inpt1 = Input(shape=input_dimension)\n",
    "    l = inpt1\n",
    "    for hid in hidden_size:\n",
    "        l = Dense(units=hid, kernel_initializer='normal',activation='relu')(l)\n",
    "    model_d = clone_model(model=discriminator)\n",
    "    for layer in model_d.layers:\n",
    "        layer.trainable = False\n",
    "        \n",
    "    inpt2 = Input(shape=(784,))\n",
    "    out = model_d([l, inpt2])\n",
    "    model = Model([inpt1, inpt2], out)\n",
    "    model.compile(loss='categorical_crossentropy',optimizer='adam',metrics=['accuracy'])\n",
    "    return model"
   ]
  },
  {
   "cell_type": "code",
   "execution_count": 68,
   "metadata": {},
   "outputs": [
    {
     "name": "stdout",
     "output_type": "stream",
     "text": [
      "__________________________________________________________________________________________________\n",
      "Layer (type)                    Output Shape         Param #     Connected to                     \n",
      "==================================================================================================\n",
      "input_35 (InputLayer)           (None, 10)           0                                            \n",
      "__________________________________________________________________________________________________\n",
      "dense_50 (Dense)                (None, 32)           352         input_35[0][0]                   \n",
      "__________________________________________________________________________________________________\n",
      "dense_51 (Dense)                (None, 784)          25872       dense_50[0][0]                   \n",
      "__________________________________________________________________________________________________\n",
      "input_36 (InputLayer)           (None, 784)          0                                            \n",
      "__________________________________________________________________________________________________\n",
      "model_5 (Model)                 (None, 10)           1246570     dense_51[0][0]                   \n",
      "                                                                 input_36[0][0]                   \n",
      "==================================================================================================\n",
      "Total params: 1,272,794\n",
      "Trainable params: 26,224\n",
      "Non-trainable params: 1,246,570\n",
      "__________________________________________________________________________________________________\n"
     ]
    }
   ],
   "source": [
    "model_G = generator_model((10,), [32, 784], model)\n",
    "model_G.summary()"
   ]
  },
  {
   "cell_type": "code",
   "execution_count": 62,
   "metadata": {},
   "outputs": [
    {
     "name": "stdout",
     "output_type": "stream",
     "text": [
      "Epoch 1/10\n",
      "10000/10000 [==============================] - 1s 118us/step - loss: 2.3030 - acc: 0.0997\n",
      "Epoch 2/10\n",
      "10000/10000 [==============================] - 1s 104us/step - loss: 2.3025 - acc: 0.1077\n",
      "Epoch 3/10\n",
      "10000/10000 [==============================] - 1s 105us/step - loss: 2.3026 - acc: 0.1086\n",
      "Epoch 4/10\n",
      "10000/10000 [==============================] - 1s 104us/step - loss: 2.3020 - acc: 0.1060\n",
      "Epoch 5/10\n",
      "10000/10000 [==============================] - 1s 104us/step - loss: 2.3023 - acc: 0.1063\n",
      "Epoch 6/10\n",
      "10000/10000 [==============================] - 1s 105us/step - loss: 2.3015 - acc: 0.1087\n",
      "Epoch 7/10\n",
      "10000/10000 [==============================] - 1s 104us/step - loss: 2.3009 - acc: 0.1092\n",
      "Epoch 8/10\n",
      "10000/10000 [==============================] - 1s 104us/step - loss: 2.3004 - acc: 0.1091\n",
      "Epoch 9/10\n",
      "10000/10000 [==============================] - 1s 104us/step - loss: 2.2993 - acc: 0.1167\n",
      "Epoch 10/10\n",
      "10000/10000 [==============================] - 1s 105us/step - loss: 2.2986 - acc: 0.1116\n"
     ]
    },
    {
     "data": {
      "text/plain": [
       "<keras.callbacks.History at 0x1dc9b837b38>"
      ]
     },
     "execution_count": 62,
     "metadata": {},
     "output_type": "execute_result"
    }
   ],
   "source": [
    "temp_x = np.random.uniform(high=1,low=0, size=(10000, 10))\n",
    "y = np.random.choice(range(10), size=10000)\n",
    "y = np_utils.to_categorical(y)\n",
    "model_G.fit(x=[temp_x, ], y=y, epochs=10)"
   ]
  },
  {
   "cell_type": "code",
   "execution_count": 63,
   "metadata": {},
   "outputs": [
    {
     "name": "stdout",
     "output_type": "stream",
     "text": [
      "__________________________________________________________________________________________________\n",
      "Layer (type)                    Output Shape         Param #     Connected to                     \n",
      "==================================================================================================\n",
      "input_32 (InputLayer)           (None, 10)           0                                            \n",
      "__________________________________________________________________________________________________\n",
      "dense_46 (Dense)                (None, 32)           352         input_32[0][0]                   \n",
      "__________________________________________________________________________________________________\n",
      "dense_47 (Dense)                (None, 784)          25872       dense_46[0][0]                   \n",
      "__________________________________________________________________________________________________\n",
      "model_5 (Model)                 (None, 10)           1246570     dense_47[0][0]                   \n",
      "                                                                 dense_47[0][0]                   \n",
      "==================================================================================================\n",
      "Total params: 1,272,794\n",
      "Trainable params: 26,224\n",
      "Non-trainable params: 1,246,570\n",
      "__________________________________________________________________________________________________\n"
     ]
    }
   ],
   "source": [
    "model_G.summary()"
   ]
  },
  {
   "cell_type": "code",
   "execution_count": null,
   "metadata": {
    "collapsed": true
   },
   "outputs": [],
   "source": []
  }
 ],
 "metadata": {
  "kernelspec": {
   "display_name": "Python 3",
   "language": "python",
   "name": "python3"
  },
  "language_info": {
   "codemirror_mode": {
    "name": "ipython",
    "version": 3
   },
   "file_extension": ".py",
   "mimetype": "text/x-python",
   "name": "python",
   "nbconvert_exporter": "python",
   "pygments_lexer": "ipython3",
   "version": "3.6.8"
  }
 },
 "nbformat": 4,
 "nbformat_minor": 2
}
